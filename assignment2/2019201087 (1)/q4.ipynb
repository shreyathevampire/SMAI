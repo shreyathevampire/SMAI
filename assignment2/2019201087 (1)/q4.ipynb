{
  "nbformat": 4,
  "nbformat_minor": 0,
  "metadata": {
    "colab": {
      "name": "q4_temp.ipynb",
      "provenance": [],
      "collapsed_sections": []
    },
    "kernelspec": {
      "name": "python3",
      "display_name": "Python 3"
    },
    "accelerator": "GPU"
  },
  "cells": [
    {
      "cell_type": "code",
      "metadata": {
        "id": "aBjbYW37AjWR",
        "colab_type": "code",
        "outputId": "f8f11662-5348-4a17-80eb-96c1bade0df3",
        "colab": {
          "base_uri": "https://localhost:8080/",
          "height": 139
        }
      },
      "source": [
        "from google.colab import drive\n",
        "drive.mount('/gdrive')\n",
        "%cd /gdrive\n"
      ],
      "execution_count": 2,
      "outputs": [
        {
          "output_type": "stream",
          "text": [
            "Go to this URL in a browser: https://accounts.google.com/o/oauth2/auth?client_id=947318989803-6bn6qk8qdgf4n4g3pfee6491hc0brc4i.apps.googleusercontent.com&redirect_uri=urn%3aietf%3awg%3aoauth%3a2.0%3aoob&response_type=code&scope=email%20https%3a%2f%2fwww.googleapis.com%2fauth%2fdocs.test%20https%3a%2f%2fwww.googleapis.com%2fauth%2fdrive%20https%3a%2f%2fwww.googleapis.com%2fauth%2fdrive.photos.readonly%20https%3a%2f%2fwww.googleapis.com%2fauth%2fpeopleapi.readonly\n",
            "\n",
            "Enter your authorization code:\n",
            "··········\n",
            "Mounted at /gdrive\n",
            "/gdrive\n"
          ],
          "name": "stdout"
        }
      ]
    },
    {
      "cell_type": "code",
      "metadata": {
        "id": "ExbvDhlUCyDq",
        "colab_type": "code",
        "colab": {}
      },
      "source": [
        "import numpy as np\n",
        "import pandas as pd\n",
        "import math\n",
        "import matplotlib.pyplot as plt\n",
        "from sklearn.metrics import mean_absolute_error\n",
        "from sklearn.metrics import mean_squared_error\n",
        "from sklearn.metrics import r2_score\n",
        "#mape is left\n",
        "import seaborn as sns"
      ],
      "execution_count": 0,
      "outputs": []
    },
    {
      "cell_type": "code",
      "metadata": {
        "id": "-OQmwM1z3FMN",
        "colab_type": "code",
        "colab": {}
      },
      "source": [
        ""
      ],
      "execution_count": 0,
      "outputs": []
    },
    {
      "cell_type": "markdown",
      "metadata": {
        "id": "97JvvXtN3L16",
        "colab_type": "text"
      },
      "source": [
        "**Check if any missing values present**"
      ]
    },
    {
      "cell_type": "markdown",
      "metadata": {
        "id": "V6N0NU743ZlU",
        "colab_type": "text"
      },
      "source": [
        "Precip Column has missing values"
      ]
    },
    {
      "cell_type": "code",
      "metadata": {
        "id": "0xlLr1gc3SnM",
        "colab_type": "code",
        "colab": {}
      },
      "source": [
        ""
      ],
      "execution_count": 0,
      "outputs": []
    },
    {
      "cell_type": "code",
      "metadata": {
        "id": "th2ckX1K3Sq_",
        "colab_type": "code",
        "colab": {}
      },
      "source": [
        ""
      ],
      "execution_count": 0,
      "outputs": []
    },
    {
      "cell_type": "code",
      "metadata": {
        "id": "F0fySjTk3SlA",
        "colab_type": "code",
        "colab": {}
      },
      "source": [
        ""
      ],
      "execution_count": 0,
      "outputs": []
    },
    {
      "cell_type": "markdown",
      "metadata": {
        "id": "LeZsaQ-82v9p",
        "colab_type": "text"
      },
      "source": [
        "Precip Type has missing values\n"
      ]
    },
    {
      "cell_type": "code",
      "metadata": {
        "id": "nU5A-lIfClGq",
        "colab_type": "code",
        "outputId": "66135536-9277-4742-ec97-0b5be0bb12d1",
        "colab": {
          "base_uri": "https://localhost:8080/",
          "height": 1000
        }
      },
      "source": [
        "class Weather:\n",
        "\n",
        "  def __init__(self):\n",
        "    data = np.empty(2)\n",
        "    labels = np.empty(1)\n",
        "    theta = np.empty(1)\n",
        "\n",
        "\n",
        "  def mean_absolute_percentage_error(self,true_labels, pred_labels):\n",
        "    result= np.empty(true_labels.shape)\n",
        "    for j in range(true_labels.shape[0]):\n",
        "        if true_labels[j] == 0:\n",
        "            val = pred_labels[j]/np.mean(true_labels)\n",
        "            result[j]= val\n",
        "#             result[j]=(validate_labels[j]-pred_val[j]) / validate_labels[j]\n",
        "        else :\n",
        "            diff = true_labels[j]-pred_labels[j]\n",
        "            val=diff / true_labels[j]\n",
        "            result[j] = val\n",
        "#             result[j] = pred_val[j]/np.mean(validate_labels)\n",
        "    abs_result = np.abs(result)\n",
        "    m=np.mean(abs_result)*100\n",
        "    return m\n",
        "#     print(\"mean absolute error \",m)\n",
        "  \n",
        "\n",
        "\n",
        "\n",
        "  def calculate_means(self,data):\n",
        "    means = [0 for row in range(len(data[0]))]\n",
        "    for i in range(len(data[0])):\n",
        "      values = [x[i] for x in data]\n",
        "      means[i] = sum(values)/(float(len(data)))\n",
        "\n",
        "    return means\n",
        "\n",
        "  \n",
        "  def calculate_std(self,data, means):\n",
        "    stddev = [0 for row in range(len(data[0]))]\n",
        "    for i in range(len(data[0])):\n",
        "      values = [pow(x[i]-means[i],2) for x in data]\n",
        "      stddev[i] = math.sqrt((sum(values)/ float(len(data)-1)))\n",
        "    return stddev\n",
        "\n",
        "  def standardize_data(self,data,means,stddev):\n",
        "    for row in data:\n",
        "      for i in range(len(data[0])):\n",
        "        row[i] = (row[i] - means[i])/stddev[i]\n",
        "    return data\n",
        "\n",
        "  def fit_values(self, X, thetas, y_train, alpha, max_iterations):\n",
        "    X_transposed = X\n",
        "    # max_iterations = 5000\n",
        "    # alpha = 0.005\n",
        "    threshold = 0.0001\n",
        "    for i in range(max_iterations):\n",
        "      diff = np.dot(X_transposed, thetas) - y_train\n",
        "      cost = sum(diff**2)\n",
        "      gradient = np.dot(diff, X_transposed)\n",
        "      value = (alpha*gradient)/float(len(X_transposed))\n",
        "      thetas = thetas - value\n",
        "    return thetas\n",
        "\n",
        "  def predict_values(self,X):\n",
        "      \n",
        "      print(\"no of cols in test data = \", len(X[0]))\n",
        "     \n",
        "      y_pred = np.dot(X, self.theta)\n",
        "      return y_pred\n",
        "\n",
        "  def train(self,path):\n",
        "    t_data = pd.read_csv(path)\n",
        "    \n",
        "    plt.matshow(t_data.corr())\n",
        "    plt.show()\n",
        "\n",
        "    cols = ['Formatted Date', 'Summary', 'Precip Type', 'Daily Summary']\n",
        "    t_data = t_data.drop(cols, axis = 1)\n",
        "    self.labels = t_data['Apparent Temperature (C)'].to_numpy()\n",
        "    t_data = t_data.drop('Apparent Temperature (C)', axis = 1)\n",
        "\n",
        "    \n",
        "    print(\"heatmap\")\n",
        "    ax = sns.heatmap(t_data.corr(), annot = True)\n",
        "    print(ax)\n",
        "    self.data = t_data.to_numpy()\n",
        "    \n",
        "    split_size = int(len(self.data)*0.2)\n",
        "    \n",
        "    train_size = len(self.data)-split_size\n",
        "    means = self.calculate_means(self.data)\n",
        "    stddev = self.calculate_std(self.data,means)\n",
        "    self.data = self.standardize_data(self.data,means,stddev)\n",
        "    \n",
        "\n",
        "\n",
        "    #add a column of ones in the input dataset\n",
        "    one = np.ones(len(self.data))\n",
        "    new_input = np.concatenate((one[:, np.newaxis], self.data), axis=1)\n",
        "    self.data = new_input\n",
        "    \n",
        "    # thetas = np.ones(len(new_input[0]))\n",
        "\n",
        "    X_train = self.data[:69556,:]\n",
        "    y_train =self.labels[:69556]\n",
        "    X_test = self.data[69556:,:]\n",
        "    y_test = self.labels[69556:]\n",
        "\n",
        "\n",
        "    print(\"For different Theta values\")\n",
        "    mse_error = []\n",
        "    # r2_error = []\n",
        "    # mae_error = []\n",
        "    mse_error_theta = []\n",
        "    # r2_error_theta = []\n",
        "    # mae_error_theta = []\n",
        "    print(\"for theta = 1\")\n",
        "    iterations = [50,200,1000]\n",
        "    for i in iterations :\n",
        "      thetas = np.array([1,1,1,1,1,1,1])\n",
        "      self.theta = self.fit_values(X_train, thetas,y_train, 0.005, 10000)\n",
        "      \n",
        "      y_pred = self.predict_values(X_test)\n",
        "      print(\"predicted values\")\n",
        "      print(y_pred)\n",
        "      mse_val = mean_squared_error(y_test, y_pred)\n",
        "      mse_error_theta.append(mse_val)\n",
        "      print(\"Mean Squared Error  \",mse_val)\n",
        "      r2_val = r2_score(y_test, y_pred)\n",
        "      # r2_error\n",
        "      print(\"R2 score  \" , r2_val)\n",
        "      mae_val = mean_absolute_error(y_test,y_pred)\n",
        "      print(\"Mean absolute error  \", mae_val)\n",
        "      print(\"MAPE = \",self.mean_absolute_percentage_error(y_test,y_pred))\n",
        "    mse_error.append(mse_error_theta)\n",
        "    \n",
        "\n",
        "    mse_error_theta = []\n",
        "    # r2_error_theta = []\n",
        "    # mae_error_theta = []\n",
        "    print(\"for theta = 0\")\n",
        "    iterations = [50,200,1000]\n",
        "    for i in iterations :\n",
        "      thetas = np.array([0,0,0,0,0,0,0])\n",
        "      self.theta = self.fit_values(X_train, thetas,y_train, 0.005, 10000)\n",
        "      \n",
        "      y_pred = self.predict_values(X_test)\n",
        "      print(\"predicted values\")\n",
        "      print(y_pred)\n",
        "      mse_val = mean_squared_error(y_test, y_pred)\n",
        "      mse_error_theta.append(mse_val)\n",
        "      print(\"Mean Squared Error  \",mse_val)\n",
        "      r2_val = r2_score(y_test, y_pred)\n",
        "      # r2_error\n",
        "      print(\"R2 score  \" , r2_val)\n",
        "      mae_val = mean_absolute_error(y_test,y_pred)\n",
        "      print(\"Mean absolute error  \", mae_val)\n",
        "      print(\"MAPE = \",self.mean_absolute_percentage_error(y_test,y_pred))\n",
        "    mse_error.append(mse_error_theta)\n",
        "\n",
        "\n",
        "    mse_error_theta = []\n",
        "    # r2_error_theta = []\n",
        "    # mae_error_theta = []\n",
        "    print(\"for theta = 50\")\n",
        "    iterations = [50,200,1000]\n",
        "    for i in iterations :\n",
        "      thetas = np.array([50,50,50,50,50,50,50])\n",
        "      self.theta = self.fit_values(X_train, thetas,y_train, 0.005, 10000)\n",
        "      \n",
        "      y_pred = self.predict_values(X_test)\n",
        "      print(\"predicted values\")\n",
        "      print(y_pred)\n",
        "      mse_val = mean_squared_error(y_test, y_pred)\n",
        "      mse_error_theta.append(mse_val)\n",
        "      print(\"Mean Squared Error  \",mse_val)\n",
        "      r2_val = r2_score(y_test, y_pred)\n",
        "      # r2_error\n",
        "      print(\"R2 score  \" , r2_val)\n",
        "      mae_val = mean_absolute_error(y_test,y_pred)\n",
        "      print(\"Mean absolute error  \", mae_val)\n",
        "      print(\"MAPE = \",self.mean_absolute_percentage_error(y_test,y_pred))\n",
        "    mse_error.append(mse_error_theta)\n",
        "\n",
        "    plt.plot(iterations,mse_error[0], linewidth = 2, markersize = 12 )\n",
        "    plt.plot(iterations,mse_error[1], linewidth = 2, markersize = 12 )\n",
        "    plt.plot(iterations,mse_error[2], linewidth = 2, markersize = 12 )\n",
        "\n",
        "\n",
        "wr = Weather()\n",
        "wr.train(\"/gdrive/My Drive/smai/assignment2/Datasets/Question-4/weather.csv\")"
      ],
      "execution_count": 13,
      "outputs": [
        {
          "output_type": "display_data",
          "data": {
            "image/png": "[encoded data removed]",
            "text/plain": [
              "<Figure size 288x288 with 1 Axes>"
            ]
          },
          "metadata": {
            "tags": []
          }
        },
        {
          "output_type": "stream",
          "text": [
            "heatmap\n",
            "AxesSubplot(0.125,0.125;0.62x0.755)\n",
            "For different Theta values\n",
            "for theta = 1\n",
            "no of cols in test data =  7\n",
            "predicted values\n",
            "[ 8.04015181  6.75346197  6.19135824 ... 24.81338355 22.14794726\n",
            " 21.4484078 ]\n",
            "Mean Squared Error   0.940145077860296\n",
            "R2 score   0.9908699279373638\n",
            "Mean absolute error   0.790067120948586\n",
            "MAPE =  49.072287981542075\n",
            "no of cols in test data =  7\n",
            "predicted values\n",
            "[ 8.04015181  6.75346197  6.19135824 ... 24.81338355 22.14794726\n",
            " 21.4484078 ]\n",
            "Mean Squared Error   0.940145077860296\n",
            "R2 score   0.9908699279373638\n",
            "Mean absolute error   0.790067120948586\n",
            "MAPE =  49.072287981542075\n",
            "no of cols in test data =  7\n",
            "predicted values\n",
            "[ 8.04015181  6.75346197  6.19135824 ... 24.81338355 22.14794726\n",
            " 21.4484078 ]\n",
            "Mean Squared Error   0.940145077860296\n",
            "R2 score   0.9908699279373638\n",
            "Mean absolute error   0.790067120948586\n",
            "MAPE =  49.072287981542075\n",
            "for theta = 0\n",
            "no of cols in test data =  7\n",
            "predicted values\n",
            "[ 8.0401518   6.75346196  6.19135824 ... 24.81338354 22.14794726\n",
            " 21.44840778]\n",
            "Mean Squared Error   0.9401450861284827\n",
            "R2 score   0.9908699278570686\n",
            "Mean absolute error   0.7900671227289302\n",
            "MAPE =  49.072287882100326\n",
            "no of cols in test data =  7\n",
            "predicted values\n",
            "[ 8.0401518   6.75346196  6.19135824 ... 24.81338354 22.14794726\n",
            " 21.44840778]\n",
            "Mean Squared Error   0.9401450861284827\n",
            "R2 score   0.9908699278570686\n",
            "Mean absolute error   0.7900671227289302\n",
            "MAPE =  49.072287882100326\n",
            "no of cols in test data =  7\n",
            "predicted values\n",
            "[ 8.0401518   6.75346196  6.19135824 ... 24.81338354 22.14794726\n",
            " 21.44840778]\n",
            "Mean Squared Error   0.9401450861284827\n",
            "R2 score   0.9908699278570686\n",
            "Mean absolute error   0.7900671227289302\n",
            "MAPE =  49.072287882100326\n",
            "for theta = 50\n",
            "no of cols in test data =  7\n",
            "predicted values\n",
            "[ 8.04015221  6.75346271  6.19135827 ... 24.81338367 22.14794761\n",
            " 21.44840886]\n",
            "Mean Squared Error   0.9401446727244865\n",
            "R2 score   0.990869931871777\n",
            "Mean absolute error   0.7900670337116003\n",
            "MAPE =  49.07229285416573\n",
            "no of cols in test data =  7\n",
            "predicted values\n",
            "[ 8.04015221  6.75346271  6.19135827 ... 24.81338367 22.14794761\n",
            " 21.44840886]\n",
            "Mean Squared Error   0.9401446727244865\n",
            "R2 score   0.990869931871777\n",
            "Mean absolute error   0.7900670337116003\n",
            "MAPE =  49.07229285416573\n",
            "no of cols in test data =  7\n",
            "predicted values\n",
            "[ 8.04015221  6.75346271  6.19135827 ... 24.81338367 22.14794761\n",
            " 21.44840886]\n",
            "Mean Squared Error   0.9401446727244865\n",
            "R2 score   0.990869931871777\n",
            "Mean absolute error   0.7900670337116003\n",
            "MAPE =  49.07229285416573\n"
          ],
          "name": "stdout"
        },
        {
          "output_type": "display_data",
          "data": {
            "image/png": "[encoded data removed]",
            "text/plain": [
              "<Figure size 432x288 with 2 Axes>"
            ]
          },
          "metadata": {
            "tags": []
          }
        }
      ]
    },
    {
      "cell_type": "code",
      "metadata": {
        "id": "FTtbWLHICluQ",
        "colab_type": "code",
        "colab": {}
      },
      "source": [
        ""
      ],
      "execution_count": 0,
      "outputs": []
    },
    {
      "cell_type": "code",
      "metadata": {
        "id": "2NdjxNCIClsQ",
        "colab_type": "code",
        "colab": {}
      },
      "source": [
        ""
      ],
      "execution_count": 0,
      "outputs": []
    },
    {
      "cell_type": "code",
      "metadata": {
        "id": "ujxvc8xuClBp",
        "colab_type": "code",
        "colab": {}
      },
      "source": [
        ""
      ],
      "execution_count": 0,
      "outputs": []
    }
  ]
}