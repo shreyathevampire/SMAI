{
  "nbformat": 4,
  "nbformat_minor": 0,
  "metadata": {
    "colab": {
      "name": "q3_airfoil.ipynb",
      "provenance": [],
      "collapsed_sections": []
    },
    "kernelspec": {
      "name": "python3",
      "display_name": "Python 3"
    },
    "accelerator": "TPU"
  },
  "cells": [
    {
      "cell_type": "code",
      "metadata": {
        "id": "SK8x1xsSaxVv",
        "colab_type": "code",
        "outputId": "0418105d-8f08-4797-888b-175c3237f115",
        "colab": {
          "base_uri": "https://localhost:8080/",
          "height": 139
        }
      },
      "source": [
        "from google.colab import drive\n",
        "drive.mount('/gdrive')\n",
        "%cd /gdrive\n"
      ],
      "execution_count": 3,
      "outputs": [
        {
          "output_type": "stream",
          "text": [
            "Go to this URL in a browser: https://accounts.google.com/o/oauth2/auth?client_id=947318989803-6bn6qk8qdgf4n4g3pfee6491hc0brc4i.apps.googleusercontent.com&redirect_uri=urn%3aietf%3awg%3aoauth%3a2.0%3aoob&response_type=code&scope=email%20https%3a%2f%2fwww.googleapis.com%2fauth%2fdocs.test%20https%3a%2f%2fwww.googleapis.com%2fauth%2fdrive%20https%3a%2f%2fwww.googleapis.com%2fauth%2fdrive.photos.readonly%20https%3a%2f%2fwww.googleapis.com%2fauth%2fpeopleapi.readonly\n",
            "\n",
            "Enter your authorization code:\n",
            "··········\n",
            "Mounted at /gdrive\n",
            "/gdrive\n"
          ],
          "name": "stdout"
        }
      ]
    },
    {
      "cell_type": "code",
      "metadata": {
        "id": "lfpgkkRLa4Sh",
        "colab_type": "code",
        "colab": {}
      },
      "source": [
        "import numpy as np\n",
        "import pandas as pd\n",
        "import math\n",
        "import matplotlib.pyplot as plt\n",
        "from sklearn.metrics import mean_squared_error\n",
        "# print(mean_squared_error(y_test, y_pred))"
      ],
      "execution_count": 0,
      "outputs": []
    },
    {
      "cell_type": "markdown",
      "metadata": {
        "id": "b43ACJUVkPTY",
        "colab_type": "text"
      },
      "source": [
        "**Exploring** **Data**"
      ]
    },
    {
      "cell_type": "code",
      "metadata": {
        "colab_type": "code",
        "outputId": "bf9365b2-cf7f-426c-c922-e4ab75a39bc3",
        "id": "zFxC6YJWl9ap",
        "colab": {
          "base_uri": "https://localhost:8080/",
          "height": 323
        }
      },
      "source": [
        "data.info()\n",
        "print(\"=\"*40)\n",
        "print(data.head())\n",
        "\n",
        "print(\"=\"*40)\n",
        "\n"
      ],
      "execution_count": 0,
      "outputs": [
        {
          "output_type": "stream",
          "text": [
            "<class 'pandas.core.frame.DataFrame'>\n",
            "RangeIndex: 1202 entries, 0 to 1201\n",
            "Data columns (total 5 columns):\n",
            "0    1202 non-null float64\n",
            "1    1202 non-null float64\n",
            "2    1202 non-null float64\n",
            "3    1202 non-null float64\n",
            "4    1202 non-null float64\n",
            "dtypes: float64(5)\n",
            "memory usage: 47.1 KB\n",
            "========================================\n",
            "        0     1       2     3         4\n",
            "0  8000.0   4.0  0.2286  39.6  0.004738\n",
            "1  6300.0   0.0  0.0508  55.5  0.000762\n",
            "2   400.0   4.0  0.2286  55.5  0.004286\n",
            "3  1250.0  15.4  0.0508  39.6  0.028259\n",
            "4   800.0   7.3  0.2286  39.6  0.012348\n",
            "========================================\n"
          ],
          "name": "stdout"
        }
      ]
    },
    {
      "cell_type": "code",
      "metadata": {
        "id": "1fSpSU_zbgck",
        "colab_type": "code",
        "outputId": "6152a945-3f9b-46de-bbc0-d0cb4902c539",
        "colab": {
          "base_uri": "https://localhost:8080/",
          "height": 34
        }
      },
      "source": [
        "print(data.iloc[0][0])"
      ],
      "execution_count": 0,
      "outputs": [
        {
          "output_type": "stream",
          "text": [
            "8000.0\n"
          ],
          "name": "stdout"
        }
      ]
    },
    {
      "cell_type": "markdown",
      "metadata": {
        "id": "JfYDUQ9mkwqD",
        "colab_type": "text"
      },
      "source": [
        "***Looking at the statistical View of data***"
      ]
    },
    {
      "cell_type": "code",
      "metadata": {
        "id": "TXG0tpwrhOx7",
        "colab_type": "code",
        "outputId": "320f8dea-5356-48c7-a64e-2bca56e02f83",
        "colab": {
          "base_uri": "https://localhost:8080/",
          "height": 153
        }
      },
      "source": [
        "print(data.describe().T)"
      ],
      "execution_count": 0,
      "outputs": [
        {
          "output_type": "stream",
          "text": [
            "    count         mean          std  ...          50%          75%           max\n",
            "0  1202.0  2938.061564  3180.433353  ...  1600.000000  4000.000000  20000.000000\n",
            "1  1202.0     6.657654     5.800597  ...     5.300000     9.900000     22.200000\n",
            "2  1202.0     0.139996     0.094807  ...     0.101600     0.228600      0.304800\n",
            "3  1202.0    50.829201    15.540260  ...    39.600000    71.300000     71.300000\n",
            "4  1202.0     0.010967     0.013082  ...     0.004957     0.014072      0.058411\n",
            "\n",
            "[5 rows x 8 columns]\n"
          ],
          "name": "stdout"
        }
      ]
    },
    {
      "cell_type": "markdown",
      "metadata": {
        "id": "FBEq0yTYlBSz",
        "colab_type": "text"
      },
      "source": [
        "***Checking for missing values in any feature***"
      ]
    },
    {
      "cell_type": "code",
      "metadata": {
        "id": "QMkRnpn-hOKG",
        "colab_type": "code",
        "outputId": "a7e26ed2-33c5-4e78-996e-99cd22eace99",
        "colab": {
          "base_uri": "https://localhost:8080/",
          "height": 119
        }
      },
      "source": [
        "data.isnull().sum()\n",
        "\n",
        "#the output indicates that there are no null values in any feature of the data"
      ],
      "execution_count": 0,
      "outputs": [
        {
          "output_type": "execute_result",
          "data": {
            "text/plain": [
              "0    0\n",
              "1    0\n",
              "2    0\n",
              "3    0\n",
              "4    0\n",
              "dtype: int64"
            ]
          },
          "metadata": {
            "tags": []
          },
          "execution_count": 7
        }
      ]
    },
    {
      "cell_type": "markdown",
      "metadata": {
        "id": "mPZPtlnStKcE",
        "colab_type": "text"
      },
      "source": [
        "**Data Preprocessing : FEATURE SCALING is required.**"
      ]
    },
    {
      "cell_type": "code",
      "metadata": {
        "id": "X4Bfv2sPuIHj",
        "colab_type": "code",
        "colab": {}
      },
      "source": [
        "data_np = data.to_numpy()\n",
        "labels = labels.to_numpy()"
      ],
      "execution_count": 0,
      "outputs": []
    },
    {
      "cell_type": "markdown",
      "metadata": {
        "id": "RQvRbqfIduSP",
        "colab_type": "text"
      },
      "source": [
        "**Visualizing Data (each column with label class)**\n",
        "\n"
      ]
    },
    {
      "cell_type": "code",
      "metadata": {
        "id": "LLR3lGTadz5A",
        "colab_type": "code",
        "outputId": "190722f4-fe0d-4ebf-d14b-418991b515be",
        "colab": {
          "base_uri": "https://localhost:8080/",
          "height": 1000
        }
      },
      "source": [
        "# y = std_data[:,-1]\n",
        "# print(y.shape)\n",
        "for i in range(4):\n",
        "  plt.scatter(std_data[:,i],y_train)\n",
        "  plt.show()"
      ],
      "execution_count": 148,
      "outputs": [
        {
          "output_type": "display_data",
          "data": {
            "image/png": "[encoded data removed]",
            "text/plain": [
              "<Figure size 432x288 with 1 Axes>"
            ]
          },
          "metadata": {
            "tags": []
          }
        },
        {
          "output_type": "display_data",
          "data": {
            "image/png": "[encoded data removed]",
            "text/plain": [
              "<Figure size 432x288 with 1 Axes>"
            ]
          },
          "metadata": {
            "tags": []
          }
        },
        {
          "output_type": "display_data",
          "data": {
            "image/png": "[encoded data removed]",
            "text/plain": [
              "<Figure size 432x288 with 1 Axes>"
            ]
          },
          "metadata": {
            "tags": []
          }
        },
        {
          "output_type": "display_data",
          "data": {
            "image/png": "[encoded data removed]",
            "text/plain": [
              "<Figure size 432x288 with 1 Axes>"
            ]
          },
          "metadata": {
            "tags": []
          }
        }
      ]
    },
    {
      "cell_type": "markdown",
      "metadata": {
        "id": "-bNLrZJTlz0r",
        "colab_type": "text"
      },
      "source": [
        "**MODEL** **CREATION**"
      ]
    },
    {
      "cell_type": "code",
      "metadata": {
        "id": "Uf_8-2cilqIp",
        "colab_type": "code",
        "colab": {}
      },
      "source": [
        "# #add a column of ones in the input dataset\n",
        "# one = np.ones(len(std_data))\n",
        "# new_input = np.concatenate((one[:, np.newaxis], std_data), axis=1)\n"
      ],
      "execution_count": 0,
      "outputs": []
    },
    {
      "cell_type": "code",
      "metadata": {
        "id": "MheqBYw-zoKc",
        "colab_type": "code",
        "outputId": "9fad0427-9ac7-4314-d3f8-3ffdeeb2aa60",
        "colab": {
          "base_uri": "https://localhost:8080/",
          "height": 34
        }
      },
      "source": [
        "print(len(new_input[0]))"
      ],
      "execution_count": 150,
      "outputs": [
        {
          "output_type": "stream",
          "text": [
            "6\n"
          ],
          "name": "stdout"
        }
      ]
    },
    {
      "cell_type": "code",
      "metadata": {
        "id": "IN0TkwniLn2Y",
        "colab_type": "code",
        "colab": {}
      },
      "source": [
        "from math import sqrt\n",
        "from sklearn.metrics import mean_squared_error\n",
        "from sklearn.metrics import r2_score"
      ],
      "execution_count": 0,
      "outputs": []
    },
    {
      "cell_type": "code",
      "metadata": {
        "id": "diby5LyqoGYZ",
        "colab_type": "code",
        "colab": {}
      },
      "source": [
        ""
      ],
      "execution_count": 0,
      "outputs": []
    },
    {
      "cell_type": "code",
      "metadata": {
        "id": "6hI_JTfELn72",
        "colab_type": "code",
        "colab": {}
      },
      "source": [
        "\n",
        "class AirFoil():\n",
        "  def __init__(self):\n",
        "    train_data = np.empty(2)\n",
        "    labels = np.empty(1)\n",
        "    theta = np.empty(1)\n",
        "\n",
        "  def calculate_means(data):\n",
        "    means = [0 for row in range(len(data[0]))]\n",
        "    for i in range(len(data[0])):\n",
        "      values = [x[i] for x in data]\n",
        "      means[i] = sum(values)/(float(len(data)))\n",
        "\n",
        "    return means\n",
        "\n",
        "  \n",
        "  def calculate_std(data, means):\n",
        "    stddev = [0 for row in range(len(data[0]))]\n",
        "    for i in range(len(data[0])):\n",
        "      values = [pow(x[i]-means[i],2) for x in data]\n",
        "      stddev[i] = math.sqrt((sum(values)/ float(len(data)-1)))\n",
        "    return stddev\n",
        "\n",
        "  def standardize_data(data,means,stddev):\n",
        "    for row in data:\n",
        "      for i in range(len(data[0])):\n",
        "        row[i] = (row[i] - means[i])/stddev[i]\n",
        "    return data\n",
        "\n",
        "  def fit_values(self, X, thetas, y_train, alpha, max_iterations):\n",
        "    X_transposed = X\n",
        "    # max_iterations = 5000\n",
        "    # alpha = 0.005\n",
        "    threshold = 0.0001\n",
        "    for i in range(max_iterations):\n",
        "      diff = np.dot(X_transposed, thetas) - y_train\n",
        "      cost = sum(diff**2)\n",
        "      gradient = np.dot(diff, X_transposed)\n",
        "      # print(gradient)\n",
        "      value = (alpha*gradient)/float(len(X_transposed))\n",
        "      # print(value)\n",
        "      thetas = thetas - value\n",
        "\n",
        "      # print(i,\" \",thetas)\n",
        "    return thetas\n",
        "\n",
        "\n",
        "\n",
        "\n",
        "  def train(self, path):\n",
        "    data = pd.read_csv(path,header=None)\n",
        "    labels_ = data.iloc[:,-1]\n",
        "    data = data.iloc[:,:-1]\n",
        "    # print(data.shape)\n",
        "    self.train_data = data.to_numpy()\n",
        "    self.labels = labels_.to_numpy()\n",
        "    means = calculate_means(self.train_data)\n",
        "    stddev = calculate_std(self.train_data,means)\n",
        "    self.train_data = standardize_data(self.train_data,means,stddev)\n",
        "    # print(self.train_data)\n",
        "    #add a column of ones in the input dataset\n",
        "    one = np.ones(len(self.train_data))\n",
        "    new_input = np.concatenate((one[:, np.newaxis], self.train_data), axis=1)\n",
        "    self.train_data = new_input\n",
        "    # print(\"no of columns = \" ,len(new_input[0]))\n",
        "    \n",
        "    '''alpha = 0.005\n",
        "    max_iterations = 5000\n",
        "    self.theta = self.fit_values(new_input, thetas,alpha, max_iterations)\n",
        "    print(self.theta)'''\n",
        "    X_train = self.train_data[:800,:]\n",
        "    y_train = self.labels[:800]\n",
        "    X_test = self.train_data[800:,:]\n",
        "    y_test = self.labels[800:]\n",
        "\n",
        "    print(\"For different Theta values\")\n",
        "    mse_error = []\n",
        "    mse_error_theta = []\n",
        "    print(\"for theta = 0\")\n",
        "    iterations = [50,100,200,300,400,500,800,1000]\n",
        "    for i in iterations :\n",
        "      thetas = np.array([0,0,0,0,0,0])\n",
        "      self.theta = self.fit_values(X_train, thetas, y_train, 0.005, i)\n",
        "      # print(self.theta)\n",
        "      y_pred = self.predict_values(X_test)\n",
        "      # print(\"predicted values\")\n",
        "      # print(y_pred)\n",
        "      val = mean_squared_error(y_test, y_pred)\n",
        "      print(\"for iteration i \",i,\" \",val)\n",
        "      mse_error_theta.append(val)\n",
        "      print(r2_score(y_test, y_pred))\n",
        "    mse_error.append(mse_error_theta)\n",
        "\n",
        "    print(\"theta  = 50\")\n",
        "    mse_error_theta = []\n",
        "    for i in iterations :\n",
        "      thetas = np.array([50,50,50,50,50,50])\n",
        "      self.theta = self.fit_values(X_train, thetas, y_train, 0.005, i)\n",
        "      # print(self.theta)\n",
        "      y_pred = self.predict_values(X_test)\n",
        "      # print(\"predicted values\")\n",
        "      # print(y_pred)\n",
        "      val = mean_squared_error(y_test, y_pred)\n",
        "      print(\"for iteration i \",i,\" \",val)\n",
        "      mse_error_theta.append(val)\n",
        "      print(r2_score(y_test, y_pred))\n",
        "    mse_error.append(mse_error_theta)\n",
        "\n",
        "    print(\"theta  = 100\")\n",
        "    mse_error_theta = []\n",
        "    for i in iterations :\n",
        "      thetas = np.array([100,100,100,100,100,100])\n",
        "      self.theta = self.fit_values(X_train, thetas, y_train, 0.005, i)\n",
        "      # print(self.theta)\n",
        "      y_pred = self.predict_values(X_test)\n",
        "      # print(\"predicted values\")\n",
        "      # print(y_pred)\n",
        "      val = mean_squared_error(y_test, y_pred)\n",
        "      print(\"for iteration i \",i,\" \",val)\n",
        "      mse_error_theta.append(val)\n",
        "      print(r2_score(y_test, y_pred))\n",
        "    mse_error.append(mse_error_theta)\n",
        "\n",
        "    plt.plot(iterations,mse_error[0], linewidth = 2, markersize = 12 )\n",
        "    plt.plot(iterations,mse_error[1], linewidth = 2, markersize = 12 )\n",
        "    plt.plot(iterations,mse_error[2], linewidth = 2, markersize = 12 )\n",
        "\n",
        "\n",
        "\n",
        "    print(\"For different values of alpha\")\n",
        "    iterations_lr = [50,100,200,300,400,500,800,1000]\n",
        "    alpha = [0.1, 0.01, 0.005]\n",
        "    mse_error_alpha = []\n",
        "    for i in alpha:\n",
        "      # print(\"alpha = \",i)\n",
        "      mse_error_iter = []\n",
        "      for j in iterations_lr:\n",
        "        thetas = np.array([0,0,0,0,0,0])\n",
        "        self.theta = self.fit_values(X_train, thetas, y_train, i, j)\n",
        "        # print(self.theta)\n",
        "        y_pred = self.predict_values(X_test)\n",
        "        # print(\"predicted values\")\n",
        "        # print(y_pred)\n",
        "        val = mean_squared_error(y_test, y_pred)\n",
        "        # print(\"for iteration i \",j,\" \",val)\n",
        "        mse_error_iter.append(val)\n",
        "        print(r2_score(y_test, y_pred))\n",
        "        print(\"MSE  = \", val)\n",
        "      mse_error_alpha.append(mse_error_iter)\n",
        "\n",
        "    # print(mse_error_alpha)\n",
        "\n",
        "    \n",
        "    plt.plot(iterations_lr,mse_error_alpha[0], linewidth = 2, markersize = 12 )\n",
        "    plt.plot(iterations_lr,mse_error_alpha[1], linewidth = 2, markersize = 12 )\n",
        "    plt.plot(iterations_lr,mse_error_alpha[2], linewidth = 2, markersize = 12 )\n",
        "    plt.show()\n",
        "\n",
        "\n",
        "\n",
        "\n",
        "  def predict_values(self,X):\n",
        "      # X_test = pd.read_csv(path, header = None)\n",
        "      # X = X_test\n",
        "      #add a column of ones in the input dataset\n",
        "      # print(\"no of cols in test data = \", len(X[0]))\n",
        "      # one = np.ones(len(X))\n",
        "      \n",
        "      # std_data_1 = standardize_data(X,means,stddev)\n",
        "      # new_input = np.concatenate((one[:, np.newaxis], std_data_1), axis=1)\n",
        "      # print(len(std_data_1[0]))\n",
        "      # print(len(theta))\n",
        "      y_pred = np.dot(X, self.theta)\n",
        "      return y_pred\n",
        "\n",
        "  def predict(path):\n",
        "    X_test = pd.read_csv(path, header = None)\n",
        "    X = X_test\n",
        "    #add a column of ones in the input dataset\n",
        "    # print(\"no of cols = \", len(X[0]))\n",
        "    one = np.ones(len(X))\n",
        "    \n",
        "    std_data_1 = standardize_data(X,means,stddev)\n",
        "    new_input = np.concatenate((one[:, np.newaxis], std_data_1), axis=1)\n",
        "    y_pred = np.dot(new_input, self.theta)\n",
        "    return y_pred\n",
        "\n",
        "\n"
      ],
      "execution_count": 0,
      "outputs": []
    },
    {
      "cell_type": "code",
      "metadata": {
        "id": "5HdL9kjSnz88",
        "colab_type": "code",
        "colab": {}
      },
      "source": [
        ""
      ],
      "execution_count": 0,
      "outputs": []
    },
    {
      "cell_type": "code",
      "metadata": {
        "id": "sP6pTDaJLn0T",
        "colab_type": "code",
        "outputId": "3462fad3-029b-4c7a-afed-22a3aa8cb888",
        "colab": {
          "base_uri": "https://localhost:8080/",
          "height": 1000
        }
      },
      "source": [
        "af = AirFoil()\n",
        "# values = pd.read_csv(\"/gdrive/My Drive/smai/assignment2/Datasets/Question-3/airfoil.csv\", header = None)\n",
        "# print(values.shape)\n",
        "af.train(\"/gdrive/My Drive/smai/assignment2/Datasets/Question-3/airfoil.csv\")\n",
        "# y_pred = af.predict(\"/gdrive/My Drive/smai/assignment2/Datasets/Question-3/test.csv\")\n"
      ],
      "execution_count": 247,
      "outputs": [
        {
          "output_type": "stream",
          "text": [
            "For different Theta values\n",
            "for theta = 0\n",
            "for iteration i  50   9543.212381110507\n",
            "-203.04589768162268\n",
            "for iteration i  100   5821.009641162281\n",
            "-123.46051604125817\n",
            "for iteration i  200   2177.2290010365705\n",
            "-45.55189764552567\n",
            "for iteration i  300   825.2444260358563\n",
            "-16.644764990302683\n",
            "for iteration i  400   322.3841457087743\n",
            "-5.892978986790107\n",
            "for iteration i  500   134.80890551782065\n",
            "-1.8823841536113712\n",
            "for iteration i  800   28.221900238547377\n",
            "0.3965802354085828\n",
            "for iteration i  1000   22.968461686731015\n",
            "0.5089053668645669\n",
            "theta  = 50\n",
            "for iteration i  50   10922.608168088154\n",
            "-232.53911656557148\n",
            "for iteration i  100   6907.290753511255\n",
            "-146.68657408671953\n",
            "for iteration i  200   2938.1476724256636\n",
            "-61.821297001408794\n",
            "for iteration i  300   1333.662021928667\n",
            "-27.51537339847573\n",
            "for iteration i  400   644.7959405844381\n",
            "-12.786549147584605\n",
            "for iteration i  500   335.2110942437284\n",
            "-6.167235298376678\n",
            "for iteration i  800   82.87966842097751\n",
            "-0.7720716743124281\n",
            "for iteration i  1000   51.72831520119359\n",
            "-0.10601651616572694\n",
            "theta  = 100\n",
            "for iteration i  50   29277.93089860454\n",
            "-624.9990298750015\n",
            "for iteration i  100   18744.696668720047\n",
            "-399.78521841443387\n",
            "for iteration i  200   8287.16848953953\n",
            "-176.1900976482491\n",
            "for iteration i  300   3912.2425136536635\n",
            "-82.64867130346494\n",
            "for iteration i  400   1950.0051377403472\n",
            "-40.69356532414344\n",
            "for iteration i  500   1030.3891917465294\n",
            "-21.031018402934947\n",
            "for iteration i  800   237.34859353149346\n",
            "-4.07481180304284\n",
            "for iteration i  1000   131.09431321639153\n",
            "-1.8029614927297373\n",
            "For different values of alpha\n",
            "0.5158692716615947\n",
            "MSE  =  22.642760345831892\n",
            "0.5294240992268272\n",
            "MSE  =  22.008802007467338\n",
            "0.5290216659644494\n",
            "MSE  =  22.0276237830371\n",
            "0.5287922254968391\n",
            "MSE  =  22.03835469767986\n",
            "0.5287454980562052\n",
            "MSE  =  22.040540136814197\n",
            "0.5287369492950051\n",
            "MSE  =  22.04093996177836\n",
            "0.5287350880607209\n",
            "MSE  =  22.04102701157582\n",
            "0.5287350776502062\n",
            "MSE  =  22.041027498474865\n",
            "-123.15442504798946\n",
            "MSE  =  5806.693786788838\n",
            "-45.32565624533219\n",
            "MSE  =  2166.647706553429\n",
            "-5.83082574918854\n",
            "MSE  =  319.4772431278125\n",
            "-0.36818544080233595\n",
            "MSE  =  63.98993749285239\n",
            "0.39899899026021424\n",
            "MSE  =  28.108775243096712\n",
            "0.5093342365220663\n",
            "MSE  =  22.948403482808104\n",
            "0.5291882976941938\n",
            "MSE  =  22.01983042867688\n",
            "0.5294373571842337\n",
            "MSE  =  22.00818193372556\n",
            "-203.04589768162268\n",
            "MSE  =  9543.212381110507\n",
            "-123.46051604125817\n",
            "MSE  =  5821.009641162281\n",
            "-45.55189764552567\n",
            "MSE  =  2177.2290010365705\n",
            "-16.644764990302683\n",
            "MSE  =  825.2444260358563\n",
            "-5.892978986790107\n",
            "MSE  =  322.3841457087743\n",
            "-1.8823841536113712\n",
            "MSE  =  134.80890551782065\n",
            "0.3965802354085828\n",
            "MSE  =  28.221900238547377\n",
            "0.5089053668645669\n",
            "MSE  =  22.968461686731015\n"
          ],
          "name": "stdout"
        },
        {
          "output_type": "display_data",
          "data": {
            "image/png": "[encoded data removed]",
            "text/plain": [
              "<Figure size 432x288 with 1 Axes>"
            ]
          },
          "metadata": {
            "tags": []
          }
        }
      ]
    },
    {
      "cell_type": "code",
      "metadata": {
        "id": "aT1xPWGHLnvq",
        "colab_type": "code",
        "colab": {}
      },
      "source": [
        ""
      ],
      "execution_count": 0,
      "outputs": []
    },
    {
      "cell_type": "code",
      "metadata": {
        "id": "KjhHExczLnti",
        "colab_type": "code",
        "colab": {}
      },
      "source": [
        ""
      ],
      "execution_count": 0,
      "outputs": []
    },
    {
      "cell_type": "markdown",
      "metadata": {
        "id": "fyMuopqqQvSf",
        "colab_type": "text"
      },
      "source": [
        "What Should be done in Following Scenarios:\n",
        "\n",
        "1. When 0-0.5% of values are missing of that feature\n",
        "Soln: Replace the missing values with either the mean or mode values\n",
        "\n",
        "2. When 8-10% of values are missing of that feature\n",
        "Soln: Check if the feature is important or not using the correlation matrix and accordingly decide whether to replace the missing values with respective means or modes or drop the columns\n",
        "\n",
        "3. When 60-70% of values are missing of that feature\n",
        "Soln: If the missing values is greater than 50%, drop that feature"
      ]
    },
    {
      "cell_type": "code",
      "metadata": {
        "id": "97gqtLMeLnrU",
        "colab_type": "code",
        "colab": {}
      },
      "source": [
        ""
      ],
      "execution_count": 0,
      "outputs": []
    },
    {
      "cell_type": "code",
      "metadata": {
        "id": "eAIz-q0SLnnD",
        "colab_type": "code",
        "colab": {}
      },
      "source": [
        ""
      ],
      "execution_count": 0,
      "outputs": []
    }
  ]
}