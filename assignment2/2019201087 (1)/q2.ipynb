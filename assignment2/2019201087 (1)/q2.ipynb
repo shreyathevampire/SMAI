{
 "cells": [
  {
   "cell_type": "code",
   "execution_count": 22,
   "metadata": {},
   "outputs": [],
   "source": [
    "import matplotlib.pyplot as plt\n",
    "from matplotlib import style\n",
    "import numpy as np\n",
    "from scipy.stats import norm\n",
    "np.random.seed(0)\n",
    "import pickle\n",
    "from matplotlib.axes._axes import _log as matplotlib_axes_logger\n",
    "matplotlib_axes_logger.setLevel('ERROR')\n",
    "import glob\n",
    "import errno\n",
    "from scipy.stats import multivariate_normal"
   ]
  },
  {
   "cell_type": "code",
   "execution_count": 23,
   "metadata": {},
   "outputs": [],
   "source": [
    "def load(name):\n",
    "    file = open(name,'rb')\n",
    "    data = pickle.load(file)\n",
    "    file.close()\n",
    "    return data"
   ]
  },
  {
   "cell_type": "code",
   "execution_count": 24,
   "metadata": {},
   "outputs": [],
   "source": [
    "def save(data,name):\n",
    "    file = open(name, 'wb')\n",
    "    pickle.dump(data,file)\n",
    "    file.close()"
   ]
  },
  {
   "cell_type": "code",
   "execution_count": 42,
   "metadata": {},
   "outputs": [],
   "source": [
    "class GMM1D:\n",
    "    def __init__(self,X,iterations,initmean,initprob,initvariance):\n",
    "#     \"\"\"initmean = [a,b,c] initprob=[1/3,1/3,1/3] initvariance=[d,e,f] \"\"\"    \n",
    "        self.iterations = iterations\n",
    "        self.X = X\n",
    "        self.mu = initmean\n",
    "        self.pi = initprob\n",
    "        self.var = initvariance\n",
    "        self.log_likelihood = []\n",
    "    \n",
    "#     \"\"\"E step\"\"\"\n",
    "\n",
    "    def calculate_prob(self,r):\n",
    "        for c,g,p in zip(range(3),[norm(loc=self.mu[0],scale=self.var[0]),\n",
    "                                       norm(loc=self.mu[1],scale=self.var[1]),\n",
    "                                       norm(loc=self.mu[2],scale=self.var[2])],self.pi):\n",
    "            r[:,c] = p*g.pdf(self.X.flatten())\n",
    "#             print(\"r in prob \",r.shape)\n",
    "#             print(\"r \",r)\n",
    "\n",
    "#         \"\"\"\n",
    "#         Normalize the probabilities such that each row of r sums to 1 and weight it by mu_c == the fraction of points belonging to \n",
    "#         cluster c\n",
    "#         \"\"\"\n",
    "        for i in range(len(r)):\n",
    "        \t# Write code here\n",
    "#             print(\"before \",r[i])\n",
    "            val = np.sum(self.pi)*np.sum(r,axis=1)[i]\n",
    "            r[i] = r[i]/val\n",
    "#             print(\"r axis 1 \",np.sum(r,axis=1))\n",
    "#             print(\"sum pi \",np.sum(self.pi))\n",
    "#             print(\"after \",r[i])\n",
    "#             pass\n",
    "        return r\n",
    "    \n",
    "    def plot(self,r):\n",
    "        fig = plt.figure(figsize=(10,10))\n",
    "        ax0 = fig.add_subplot(111)\n",
    "        for i in range(len(r)):\n",
    "            ax0.scatter(self.X[i],0,c=np.array([r[i][0],r[i][1],r[i][2]]),s=100)\n",
    "        \"\"\"Plot the gaussians\"\"\"\n",
    "        for g,c in zip([norm(loc=self.mu[0],scale=self.var[0]).pdf(np.linspace(-20,20,num=60)),\n",
    "                        norm(loc=self.mu[1],scale=self.var[1]).pdf(np.linspace(-20,20,num=60)),\n",
    "                        norm(loc=self.mu[2],scale=self.var[2]).pdf(np.linspace(-20,20,num=60))],['r','g','b']):\n",
    "            ax0.plot(np.linspace(-20,20,num=60),g,c=c)\n",
    "    \n",
    "    def run(self):\n",
    "        \n",
    "        for iter in range(self.iterations):\n",
    "\n",
    "#             \"\"\"Create the array r with dimensionality nxK\"\"\"\n",
    "            r = np.zeros((len(self.X),3))  \n",
    "\n",
    "#             \"\"\"\n",
    "#             Probability for each datapo\n",
    "\n",
    "\n",
    "#          x_i to belong to gaussian g \n",
    "#             \"\"\"\n",
    "            r = self.calculate_prob(r)\n",
    "#             print(\"r = \",r)\n",
    "\n",
    "\n",
    "#             \"\"\"Plot the data\"\"\"\n",
    "            self.plot(r)\n",
    "            \n",
    "#             \"\"\"M-Step\"\"\"\n",
    "\n",
    "#             \"\"\"calculate m_c\"\"\"\n",
    "            m_c = []\n",
    "            # write code here\n",
    "            for c in range(len(r[0])):\n",
    "                label = r[:,c]\n",
    "                m = np.sum(label)\n",
    "                m_c.append(m) # For each cluster c, calculate the m_c and add it to the list m_c\n",
    "            \n",
    "            print(m_c)\n",
    "#             \"\"\"calculate pi_c\"\"\"\n",
    "            # write code here\n",
    "            for k in range(len(m_c)):\n",
    "                length = np.sum(m_c)\n",
    "                self.pi[k] = (m_c[k]/length) # For each cluster c, calculate the fraction of points pi_c which belongs to cluster c\n",
    "            \n",
    "#             \"\"\"calculate mu_c\"\"\"\n",
    "            # write code here\n",
    "            y = self.X.reshape(len(self.X),1)\n",
    "            self.mu = np.sum(y*r,axis=0)/m_c\n",
    "            print (\"Updated mu= \",self.mu)\n",
    "\n",
    "\n",
    "#             \"\"\"calculate var_c\"\"\"\n",
    "            var_c = []\n",
    "            #write code here\n",
    "            for c in range(len(r[0])):\n",
    "                var_c.append((1/m_c[c])*np.dot(((np.array(r[:,c]).reshape(180,1))*(self.X.reshape(len(self.X),1)-self.mu[c])).T,(self.X.reshape(len(self.X),1)-self.mu[c])))\n",
    "            \n",
    "            log_likelihoods = []\n",
    "            print (\"Updated var= \", var_c)\n",
    "#             plt.show()\n",
    "            import matplotlib.pyplot as plt1\n",
    "            log_likelihoods.append(np.log(np.sum([k*multivariate_normal(self.mu[i], self.var[j]).pdf(self.X) for k,i,j in zip(self.pi, range(len(self.mu)), range(len(self.var)))])))\n",
    "            print(\"likelihoods \", log_likelihoods)\n",
    "            \n",
    "            plt.show()"
   ]
  },
  {
   "cell_type": "code",
   "execution_count": 43,
   "metadata": {},
   "outputs": [
    {
     "name": "stdout",
     "output_type": "stream",
     "text": [
      "['/home/ubuntu/Desktop/sem2/smai/assignment2/Datasets/Question-2/dataset2.pkl', '/home/ubuntu/Desktop/sem2/smai/assignment2/Datasets/Question-2/dataset1.pkl', '/home/ubuntu/Desktop/sem2/smai/assignment2/Datasets/Question-2/dataset3.pkl']\n",
      "(180, 1)\n",
      "[99.94836775692406, 67.10972394373059, 12.941908299345368]\n",
      "Updated mu=  [-10.57714486  14.13038249   4.6187292 ]\n",
      "Updated var=  [array([[79.81717667]]), array([[60.02730873]]), array([[2.39987419]])]\n",
      "likelihoods  [1.3558370039507135]\n"
     ]
    },
    {
     "data": {
      "image/png": "[encoded data removed]",
      "text/plain": [
       "<Figure size 720x720 with 1 Axes>"
      ]
     },
     "metadata": {
      "needs_background": "light"
     },
     "output_type": "display_data"
    }
   ],
   "source": [
    "# To run the code - \n",
    "files = glob.glob('/home/ubuntu/Desktop/sem2/smai/assignment2/Datasets/Question-2/dataset*.pkl')\n",
    "print(files)\n",
    "data1 = load('/home/ubuntu/Desktop/sem2/smai/assignment2/Datasets/Question-2/dataset1.pkl')\n",
    "data1 = np.vstack((data1,load('/home/ubuntu/Desktop/sem2/smai/assignment2/Datasets/Question-2/dataset2.pkl')))\n",
    "data1 = np.vstack((data1,load('/home/ubuntu/Desktop/sem2/smai/assignment2/Datasets/Question-2/dataset3.pkl')))\n",
    "# for i in range(1, 4):\n",
    "#     if(i>1):\n",
    "#         data= np.vstack((data,load('/home/ubuntu/Desktop/sem2/smai/assignment2/Datasets/Question-2/dataset*.pkl'.format(str(i)))))\n",
    "#     else:\n",
    "#         data= load('/home/ubuntu/Desktop/sem2/smai/assignment2/Datasets/Question-2/dataset{}.pkl'.format(str(i)))\n",
    "    \n",
    "print (data1.shape)\n",
    "g = GMM1D(data1,1,[-8,8,5],[1/3,1/3,1/3],[5,3,1])\n",
    "g.run()"
   ]
  }
 ],
 "metadata": {
  "kernelspec": {
   "display_name": "Python 3",
   "language": "python",
   "name": "python3"
  },
  "language_info": {
   "codemirror_mode": {
    "name": "ipython",
    "version": 3
   },
   "file_extension": ".py",
   "mimetype": "text/x-python",
   "name": "python",
   "nbconvert_exporter": "python",
   "pygments_lexer": "ipython3",
   "version": "3.7.3"
  }
 },
 "nbformat": 4,
 "nbformat_minor": 2
}
