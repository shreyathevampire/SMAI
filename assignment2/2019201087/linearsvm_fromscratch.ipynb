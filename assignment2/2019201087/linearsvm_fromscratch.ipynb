{
  "nbformat": 4,
  "nbformat_minor": 0,
  "metadata": {
    "colab": {
      "name": "q1_dup_CIFAR.ipynb",
      "provenance": [],
      "toc_visible": true
    },
    "kernelspec": {
      "name": "python3",
      "display_name": "Python 3"
    },
    "accelerator": "GPU"
  },
  "cells": [
    {
      "cell_type": "code",
      "metadata": {
        "id": "Oomv4WixB1u5",
        "colab_type": "code",
        "colab": {}
      },
      "source": [
        "import pandas as pd\n",
        "import numpy as np\n",
        "import pickle\n",
        "import glob\n",
        "import errno\n",
        "from sklearn.decomposition import PCA\n",
        "from sklearn.svm import SVC\n",
        "from sklearn.metrics import accuracy_score\n",
        "from sklearn.preprocessing import MinMaxScaler\n",
        "from sklearn.metrics import f1_score\n",
        "from sklearn.metrics import confusion_matrix"
      ],
      "execution_count": 0,
      "outputs": []
    },
    {
      "cell_type": "code",
      "metadata": {
        "id": "G05m5zuMH7cC",
        "colab_type": "code",
        "colab": {
          "base_uri": "https://localhost:8080/",
          "height": 139
        },
        "outputId": "1c934873-8cdd-4d1c-b95f-8b9a4b535609"
      },
      "source": [
        "from google.colab import drive\n",
        "drive.mount('/gdrive')\n",
        "%cd /gdrive\n"
      ],
      "execution_count": 2,
      "outputs": [
        {
          "output_type": "stream",
          "text": [
            "Go to this URL in a browser: https://accounts.google.com/o/oauth2/auth?client_id=947318989803-6bn6qk8qdgf4n4g3pfee6491hc0brc4i.apps.googleusercontent.com&redirect_uri=urn%3aietf%3awg%3aoauth%3a2.0%3aoob&response_type=code&scope=email%20https%3a%2f%2fwww.googleapis.com%2fauth%2fdocs.test%20https%3a%2f%2fwww.googleapis.com%2fauth%2fdrive%20https%3a%2f%2fwww.googleapis.com%2fauth%2fdrive.photos.readonly%20https%3a%2f%2fwww.googleapis.com%2fauth%2fpeopleapi.readonly\n",
            "\n",
            "Enter your authorization code:\n",
            "··········\n",
            "Mounted at /gdrive\n",
            "/gdrive\n"
          ],
          "name": "stdout"
        }
      ]
    },
    {
      "cell_type": "code",
      "metadata": {
        "id": "BonRRSfJCALD",
        "colab_type": "code",
        "colab": {}
      },
      "source": [
        "files = glob.glob(\"/gdrive/My Drive/smai/assignment2/Datasets/Question-1/data_batch_*\")"
      ],
      "execution_count": 0,
      "outputs": []
    },
    {
      "cell_type": "code",
      "metadata": {
        "id": "XLs9emwCCAbi",
        "colab_type": "code",
        "colab": {
          "base_uri": "https://localhost:8080/",
          "height": 54
        },
        "outputId": "1cdd44ab-3c16-4058-cd69-625758fe6c07"
      },
      "source": [
        "print(files)"
      ],
      "execution_count": 4,
      "outputs": [
        {
          "output_type": "stream",
          "text": [
            "['/gdrive/My Drive/smai/assignment2/Datasets/Question-1/data_batch_4', '/gdrive/My Drive/smai/assignment2/Datasets/Question-1/data_batch_1', '/gdrive/My Drive/smai/assignment2/Datasets/Question-1/data_batch_5', '/gdrive/My Drive/smai/assignment2/Datasets/Question-1/data_batch_2', '/gdrive/My Drive/smai/assignment2/Datasets/Question-1/data_batch_3']\n"
          ],
          "name": "stdout"
        }
      ]
    },
    {
      "cell_type": "code",
      "metadata": {
        "id": "a-BzDkO6CAZj",
        "colab_type": "code",
        "colab": {
          "base_uri": "https://localhost:8080/",
          "height": 1000
        },
        "outputId": "d8837f2d-303f-4991-becd-6836cc67cfe4"
      },
      "source": [
        "final_data = []\n",
        "final_labels = []\n",
        "# name = files[0]\n",
        "# print(name)\n",
        "i = 0\n",
        "for name in files:\n",
        "    try:\n",
        "        with open(name, 'rb') as f:\n",
        "            print(name)\n",
        "            text = pickle.load(f, encoding = 'bytes')\n",
        "#             print(text)\n",
        "            labels = text[b'labels']\n",
        "            data = text[b'data']\n",
        "            print(data.shape)\n",
        "            if i == 0:\n",
        "                 \n",
        "                final_data = np.array(data)\n",
        "                final_labels = np.array(labels)\n",
        "            else:\n",
        "                final_data = np.vstack((final_data,data))\n",
        "                final_labels = np.append(final_labels,labels)\n",
        "                \n",
        "            print(\"final_data shape = \",final_data.shape)\n",
        "            i += 1    \n",
        "#             print(data.shape)\n",
        "#             labels = np.array(labels)\n",
        "#             print(\"type of labels = \",type(labels),\" and type of data = \",type(data))\n",
        "#             print(labels.shape)\n",
        "#             print(len(final_data))\n",
        "\n",
        "    except IOError as exc: #Not sure what error this is\n",
        "        if exc.errno != errno.EISDIR:\n",
        "            raise\n",
        "# final_data = np.asarray(final_data)\n",
        "print(\"final data = \",final_data.shape)\n",
        "print(\"final_labels = \",final_labels.shape)\n",
        "print(\"type of labels = \",type(final_labels),\" and type of data = \",type(final_data))\n",
        "print(final_labels.shape)\n",
        "pca = PCA(n_components=200)\n",
        "transformed_data = pca.fit_transform(final_data)\n",
        "# transformed_data = pca.transform(final_data)\n",
        "print(transformed_data.shape)\n",
        "print(\"PCA was used here \")\n",
        "train_data = transformed_data[:40000,:]\n",
        "print(train_data)\n",
        "train_labels = final_labels[:40000]\n",
        "test_data = transformed_data[40000:,:]\n",
        "test_labels = final_labels[40000:]\n",
        "scaling = MinMaxScaler(feature_range=(-1,1)).fit(train_data)\n",
        "X_train = scaling.transform(train_data)\n",
        "X_test = scaling.transform(test_data)\n",
        "print(X_train)\n",
        "print('fitting data to classifier')\n",
        "clf = SVC(kernel = 'linear', C = 10,decision_function_shape = 'ovr')\n",
        "clf.fit(X_train, train_labels.flatten())\n",
        "print(\"predicting the test_data\")\n",
        "y_pred = clf.predict(X_test)\n",
        "\n",
        "print(\"SVC using PCA\",accuracy_score(test_labels,y_pred))\n",
        "print(\"F1 - Score \", f1_score(test_labels,y_pred, average='macro'))\n",
        "print(\"Confusion matrix \", confusion_matrix(test_labels,y_pred))\n",
        "        \n",
        "\n",
        "\n",
        "            \n",
        "            \n",
        "    "
      ],
      "execution_count": 7,
      "outputs": [
        {
          "output_type": "stream",
          "text": [
            "/gdrive/My Drive/smai/assignment2/Datasets/Question-1/data_batch_4\n",
            "(10000, 3072)\n",
            "final_data shape =  (10000, 3072)\n",
            "/gdrive/My Drive/smai/assignment2/Datasets/Question-1/data_batch_1\n",
            "(10000, 3072)\n",
            "final_data shape =  (20000, 3072)\n",
            "/gdrive/My Drive/smai/assignment2/Datasets/Question-1/data_batch_5\n",
            "(10000, 3072)\n",
            "final_data shape =  (30000, 3072)\n",
            "/gdrive/My Drive/smai/assignment2/Datasets/Question-1/data_batch_2\n",
            "(10000, 3072)\n",
            "final_data shape =  (40000, 3072)\n",
            "/gdrive/My Drive/smai/assignment2/Datasets/Question-1/data_batch_3\n",
            "(10000, 3072)\n",
            "final_data shape =  (50000, 3072)\n",
            "final data =  (50000, 3072)\n",
            "final_labels =  (50000,)\n",
            "type of labels =  <class 'numpy.ndarray'>  and type of data =  <class 'numpy.ndarray'>\n",
            "(50000,)\n",
            "(50000, 200)\n",
            "PCA was used here \n",
            "[[ 5.05372945e+02 -4.31122321e+02 -1.84273271e+02 ...  2.34327111e+01\n",
            "   2.46045033e+01  5.81165975e+01]\n",
            " [-1.65234467e+03 -1.75735162e+03 -3.77174089e+01 ... -3.91542602e+01\n",
            "  -8.66220834e-02  3.36162462e-01]\n",
            " [-1.00174827e+02  1.41887925e+03  1.64614464e+01 ... -6.22463925e+00\n",
            "  -2.81701913e-01  9.83815414e+01]\n",
            " ...\n",
            " [ 1.69392479e+03  2.05031206e+03 -1.06237398e+03 ... -1.10656723e+02\n",
            "   4.43412808e+01 -6.45551377e+01]\n",
            " [ 2.89489680e+03  1.08922279e+03  7.41815397e+02 ... -2.09925762e+00\n",
            "  -5.69122630e+00  6.15589789e+00]\n",
            " [-3.83497612e+02 -1.70188512e+03 -1.37592557e+03 ... -4.39160509e+01\n",
            "   5.91312715e+01 -2.68488157e+00]]\n",
            "[[ 0.03668744 -0.18840997 -0.05944458 ...  0.0459036   0.08201479\n",
            "   0.12331628]\n",
            " [-0.30870971 -0.46001496 -0.020756   ... -0.15568907 -0.00457133\n",
            "  -0.0583601 ]\n",
            " [-0.06024576  0.19046089 -0.00645358 ... -0.04962274 -0.00525543\n",
            "   0.2499195 ]\n",
            " ...\n",
            " [ 0.22694515  0.3197751  -0.2912502  ... -0.38599854  0.15122715\n",
            "  -0.26239485]\n",
            " [ 0.41919102  0.12294893  0.18502914 ... -0.03633488 -0.0242254\n",
            "  -0.04006137]\n",
            " [-0.10559872 -0.4486557  -0.37402319 ... -0.1710268   0.20309225\n",
            "  -0.06785903]]\n",
            "fitting data to classifier\n",
            "predicting the test_data\n",
            "SVC using PCA 0.4148\n",
            "F1 - Score  0.41321853001082054\n",
            "Confusion matrix  [[475  58  64  43  30  26  23  45 158  72]\n",
            " [ 52 532  32  30  20  34  44  45  73 180]\n",
            " [ 79  45 294  93 120  86 117  80  36  15]\n",
            " [ 49  60 103 297  54 190 126  42  38  38]\n",
            " [ 48  31 170  74 313  61 143 104  19  27]\n",
            " [ 41  57 122 204  82 298  87  74  33  31]\n",
            " [ 10  41  74 137 106  66 467  35  17  25]\n",
            " [ 54  37  81  69 111  92  39 449  22  61]\n",
            " [159  68  25  47  15  22  20  10 522  73]\n",
            " [ 81 197  26  30  19  29  40  50  56 501]]\n"
          ],
          "name": "stdout"
        }
      ]
    }
  ]
}
